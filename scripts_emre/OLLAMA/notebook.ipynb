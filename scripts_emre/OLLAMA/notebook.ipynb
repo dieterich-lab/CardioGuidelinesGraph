{
 "cells": [
  {
   "cell_type": "code",
   "execution_count": 30,
   "id": "9cea12df-9506-4690-a72b-dc17b7416e35",
   "metadata": {},
   "outputs": [
    {
     "name": "stdout",
     "output_type": "stream",
     "text": [
      "The autoreload extension is already loaded. To reload it, use:\n",
      "  %reload_ext autoreload\n"
     ]
    }
   ],
   "source": [
    "%load_ext autoreload\n",
    "%autoreload 2\n"
   ]
  },
  {
   "cell_type": "code",
   "execution_count": 31,
   "id": "75de4107-c6e7-4cde-a6d2-537fc232ba67",
   "metadata": {},
   "outputs": [],
   "source": [
    "from baml_client.sync_client import b  # isort:skip\n",
    "\n",
    "text = \"the ORBITA 2 trial demonstrated that patients with stable angina, who were receiving minimal or no antianginal medication and had objective evidence of ischaemia, experienced a lower angina symptom score following PCI treatment compared with a placebo procedure, indicating a better health status with respect to angina.\"\n"
   ]
  },
  {
   "cell_type": "code",
   "execution_count": 26,
   "id": "b66a3731-0fcf-4adf-93ab-19993f2fe8b2",
   "metadata": {},
   "outputs": [
    {
     "name": "stdout",
     "output_type": "stream",
     "text": [
      "triples=[Triple(head='ORBITA 2 trial', relation='demonstrated', tail='patients with stable angina'), Triple(head='patients with stable angina', relation='receiving', tail='minimal or no antianginal medication'), Triple(head='patients with stable angina', relation='had', tail='objective evidence of ischaemia'), Triple(head='patients with stable angina', relation='experienced', tail='lower angina symptom score'), Triple(head='patients with stable angina', relation='compared with', tail='a placebo procedure'), Triple(head='lower angina symptom score', relation='indicating', tail='better health status with respect to angina')]\n",
      "2025-05-09T13:04:54.318 [BAML \u001b[92mINFO\u001b[0m] \u001b[35mFunction PrimaryTripleExtraction\u001b[0m:\n",
      "    \u001b[33mClient: Gemma (gemma3) - 3115ms. StopReason: stop. Tokens(in/out): 151/245\u001b[0m\n",
      "    \u001b[34m---PROMPT---\u001b[0m\n",
      "    \u001b[2m\u001b[43msystem: \u001b[0m\u001b[2m\"Extract from the following text:\n",
      "    the ORBITA 2 trial demonstrated that patients with stable angina, who were receiving minimal or no antianginal medication and had objective evidence of ischaemia, experienced a lower angina symptom score following PCI treatment compared with a placebo procedure, indicating a better health status with respect to angina.\n",
      "    Use the following OUTPUT FORMAT:{\n",
      "      // list of triples that describe edge relations between two entities\n",
      "      triples: [\n",
      "        {\n",
      "          // head entity of the triple \n",
      "          head: string,\n",
      "          // relationship type\n",
      "          relation: string,\n",
      "          // tail entity name of the triple\n",
      "          tail: string,\n",
      "        }\n",
      "      ],\n",
      "    }\n",
      "    \u001b[0m\n",
      "    \u001b[34m---LLM REPLY---\u001b[0m\n",
      "    \u001b[2m```json\n",
      "    {\n",
      "      \"triples\": [\n",
      "        {\n",
      "          \"head\": \"ORBITA 2 trial\",\n",
      "          \"relation\": \"demonstrated\",\n",
      "          \"tail\": \"patients with stable angina\"\n",
      "        },\n",
      "        {\n",
      "          \"head\": \"patients with stable angina\",\n",
      "          \"relation\": \"receiving\",\n",
      "          \"tail\": \"minimal or no antianginal medication\"\n",
      "        },\n",
      "        {\n",
      "          \"head\": \"patients with stable angina\",\n",
      "          \"relation\": \"had\",\n",
      "          \"tail\": \"objective evidence of ischaemia\"\n",
      "        },\n",
      "        {\n",
      "          \"head\": \"patients with stable angina\",\n",
      "          \"relation\": \"experienced\",\n",
      "          \"tail\": \"lower angina symptom score\"\n",
      "        },\n",
      "        {\n",
      "          \"head\": \"patients with stable angina\",\n",
      "          \"relation\": \"compared with\",\n",
      "          \"tail\": \"a placebo procedure\"\n",
      "        },\n",
      "        {\n",
      "          \"head\": \"lower angina symptom score\",\n",
      "          \"relation\": \"indicating\",\n",
      "          \"tail\": \"better health status with respect to angina\"\n",
      "        }\n",
      "      ]\n",
      "    }\n",
      "    ```\u001b[0m\n",
      "    \u001b[34m---Parsed Response (class Triples)---\u001b[0m\n",
      "    {\n",
      "      \"triples\": [\n",
      "        {\n",
      "          \"head\": \"ORBITA 2 trial\",\n",
      "          \"relation\": \"demonstrated\",\n",
      "          \"tail\": \"patients with stable angina\"\n",
      "        },\n",
      "        {\n",
      "          \"head\": \"patients with stable angina\",\n",
      "          \"relation\": \"receiving\",\n",
      "          \"tail\": \"minimal or no antianginal medication\"\n",
      "        },\n",
      "        {\n",
      "          \"head\": \"patients with stable angina\",\n",
      "          \"relation\": \"had\",\n",
      "          \"tail\": \"objective evidence of ischaemia\"\n",
      "        },\n",
      "        {\n",
      "          \"head\": \"patients with stable angina\",\n",
      "          \"relation\": \"experienced\",\n",
      "          \"tail\": \"lower angina symptom score\"\n",
      "        },\n",
      "        {\n",
      "          \"head\": \"patients with stable angina\",\n",
      "          \"relation\": \"compared with\",\n",
      "          \"tail\": \"a placebo procedure\"\n",
      "        },\n",
      "        {\n",
      "          \"head\": \"lower angina symptom score\",\n",
      "          \"relation\": \"indicating\",\n",
      "          \"tail\": \"better health status with respect to angina\"\n",
      "        }\n",
      "      ]\n",
      "    }\n"
     ]
    }
   ],
   "source": [
    "\n",
    "text = \"the ORBITA 2 trial demonstrated that patients with stable angina, who were receiving minimal or no antianginal medication and had objective evidence of ischaemia, experienced a lower angina symptom score following PCI treatment compared with a placebo procedure, indicating a better health status with respect to angina.\"\n",
    "response = b.PrimaryTripleExtraction(text)\n",
    "print(response)\n"
   ]
  },
  {
   "cell_type": "code",
   "execution_count": 32,
   "id": "8eb02560-abb1-4d0d-b3ba-bf013a92d80b",
   "metadata": {},
   "outputs": [
    {
     "ename": "AttributeError",
     "evalue": "'BamlSyncClient' object has no attribute '__baml_options'",
     "output_type": "error",
     "traceback": [
      "\u001b[31m---------------------------------------------------------------------------\u001b[39m",
      "\u001b[31mAttributeError\u001b[39m                            Traceback (most recent call last)",
      "\u001b[36mCell\u001b[39m\u001b[36m \u001b[39m\u001b[32mIn[32]\u001b[39m\u001b[32m, line 1\u001b[39m\n\u001b[32m----> \u001b[39m\u001b[32m1\u001b[39m response = \u001b[43mb\u001b[49m\u001b[43m.\u001b[49m\u001b[43mLogicIdentifier\u001b[49m\u001b[43m(\u001b[49m\u001b[43mtext\u001b[49m\u001b[43m)\u001b[49m\n\u001b[32m      2\u001b[39m \u001b[38;5;28mprint\u001b[39m(response)\n",
      "\u001b[36mFile \u001b[39m\u001b[32m<string>:2\u001b[39m, in \u001b[36mLogicIdentifier\u001b[39m\u001b[34m(self, input, baml_options)\u001b[39m\n",
      "\u001b[31mAttributeError\u001b[39m: 'BamlSyncClient' object has no attribute '__baml_options'"
     ]
    }
   ],
   "source": [
    "response = b.LogicIdentifier(text)\n",
    "print(response)\n"
   ]
  },
  {
   "cell_type": "code",
   "execution_count": null,
   "id": "6c51eb24-dd29-4dbf-bb61-80775260f572",
   "metadata": {},
   "outputs": [],
   "source": []
  }
 ],
 "metadata": {
  "kernelspec": {
   "display_name": "jupyvenv",
   "language": "python",
   "name": "jupyvenv"
  },
  "language_info": {
   "codemirror_mode": {
    "name": "ipython",
    "version": 3
   },
   "file_extension": ".py",
   "mimetype": "text/x-python",
   "name": "python",
   "nbconvert_exporter": "python",
   "pygments_lexer": "ipython3",
   "version": "3.11.2"
  }
 },
 "nbformat": 4,
 "nbformat_minor": 5
}
